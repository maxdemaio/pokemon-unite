{
  "nbformat": 4,
  "nbformat_minor": 0,
  "metadata": {
    "colab": {
      "name": "uniteStatsNotebook.ipynb",
      "provenance": [],
      "collapsed_sections": []
    },
    "kernelspec": {
      "name": "python3",
      "display_name": "Python 3"
    },
    "language_info": {
      "name": "python"
    }
  },
  "cells": [
    {
      "cell_type": "code",
      "metadata": {
        "colab": {
          "base_uri": "https://localhost:8080/",
          "height": 206
        },
        "id": "2cfSG_9GHN5W",
        "outputId": "18b5eb3a-25ff-465f-a1e4-adce65883b48"
      },
      "source": [
        "import json\n",
        "import matplotlib.pyplot as plt, numpy as np, pandas as pd\n",
        "\n",
        "# URL for JSON: https://unite-db.com/stats.json\n",
        "# Convert to CSV: df.to_csv(\"uniteAggregate.csv\", encoding='utf-8', index=False)\n",
        "\n",
        "# Load data using Python JSON module\n",
        "with open('data.json','r') as f:\n",
        "    data = json.loads(f.read())\n",
        "\n",
        "# Normalizing data\n",
        "df = pd.json_normalize(data, record_path=[\"level\"], meta=[\"name\"])\n",
        "\n",
        "# Create level column\n",
        "df.insert(loc=0, column=\"lvl\",\n",
        "    value=np.tile([i for i in range(1,16)], 22))\n",
        "\n",
        "df.head()"
      ],
      "execution_count": 11,
      "outputs": [
        {
          "output_type": "execute_result",
          "data": {
            "text/html": [
              "<div>\n",
              "<style scoped>\n",
              "    .dataframe tbody tr th:only-of-type {\n",
              "        vertical-align: middle;\n",
              "    }\n",
              "\n",
              "    .dataframe tbody tr th {\n",
              "        vertical-align: top;\n",
              "    }\n",
              "\n",
              "    .dataframe thead th {\n",
              "        text-align: right;\n",
              "    }\n",
              "</style>\n",
              "<table border=\"1\" class=\"dataframe\">\n",
              "  <thead>\n",
              "    <tr style=\"text-align: right;\">\n",
              "      <th></th>\n",
              "      <th>lvl</th>\n",
              "      <th>hp</th>\n",
              "      <th>attack</th>\n",
              "      <th>defense</th>\n",
              "      <th>sp_attack</th>\n",
              "      <th>sp_defense</th>\n",
              "      <th>name</th>\n",
              "    </tr>\n",
              "  </thead>\n",
              "  <tbody>\n",
              "    <tr>\n",
              "      <th>0</th>\n",
              "      <td>1</td>\n",
              "      <td>3000</td>\n",
              "      <td>170</td>\n",
              "      <td>52</td>\n",
              "      <td>20</td>\n",
              "      <td>36</td>\n",
              "      <td>Absol</td>\n",
              "    </tr>\n",
              "    <tr>\n",
              "      <th>1</th>\n",
              "      <td>2</td>\n",
              "      <td>3107</td>\n",
              "      <td>186</td>\n",
              "      <td>59</td>\n",
              "      <td>23</td>\n",
              "      <td>41</td>\n",
              "      <td>Absol</td>\n",
              "    </tr>\n",
              "    <tr>\n",
              "      <th>2</th>\n",
              "      <td>3</td>\n",
              "      <td>3224</td>\n",
              "      <td>204</td>\n",
              "      <td>67</td>\n",
              "      <td>27</td>\n",
              "      <td>47</td>\n",
              "      <td>Absol</td>\n",
              "    </tr>\n",
              "    <tr>\n",
              "      <th>3</th>\n",
              "      <td>4</td>\n",
              "      <td>3353</td>\n",
              "      <td>223</td>\n",
              "      <td>76</td>\n",
              "      <td>31</td>\n",
              "      <td>53</td>\n",
              "      <td>Absol</td>\n",
              "    </tr>\n",
              "    <tr>\n",
              "      <th>4</th>\n",
              "      <td>5</td>\n",
              "      <td>3495</td>\n",
              "      <td>244</td>\n",
              "      <td>86</td>\n",
              "      <td>36</td>\n",
              "      <td>60</td>\n",
              "      <td>Absol</td>\n",
              "    </tr>\n",
              "  </tbody>\n",
              "</table>\n",
              "</div>"
            ],
            "text/plain": [
              "   lvl    hp  attack  defense sp_attack  sp_defense   name\n",
              "0    1  3000     170       52        20          36  Absol\n",
              "1    2  3107     186       59        23          41  Absol\n",
              "2    3  3224     204       67        27          47  Absol\n",
              "3    4  3353     223       76        31          53  Absol\n",
              "4    5  3495     244       86        36          60  Absol"
            ]
          },
          "metadata": {},
          "execution_count": 11
        }
      ]
    },
    {
      "cell_type": "code",
      "metadata": {
        "colab": {
          "base_uri": "https://localhost:8080/",
          "height": 206
        },
        "id": "pmL-z0RrHw2d",
        "outputId": "ce9d90eb-a95d-4e78-8404-0dfa85105bc1"
      },
      "source": [
        "# Group data by level\n",
        "grouped = df.groupby([\"lvl\"])\n",
        "\n",
        "# Show all level 1 stats for each pokemon\n",
        "grouped.get_group(1).head()"
      ],
      "execution_count": 21,
      "outputs": [
        {
          "output_type": "execute_result",
          "data": {
            "text/html": [
              "<div>\n",
              "<style scoped>\n",
              "    .dataframe tbody tr th:only-of-type {\n",
              "        vertical-align: middle;\n",
              "    }\n",
              "\n",
              "    .dataframe tbody tr th {\n",
              "        vertical-align: top;\n",
              "    }\n",
              "\n",
              "    .dataframe thead th {\n",
              "        text-align: right;\n",
              "    }\n",
              "</style>\n",
              "<table border=\"1\" class=\"dataframe\">\n",
              "  <thead>\n",
              "    <tr style=\"text-align: right;\">\n",
              "      <th></th>\n",
              "      <th>lvl</th>\n",
              "      <th>hp</th>\n",
              "      <th>attack</th>\n",
              "      <th>defense</th>\n",
              "      <th>sp_attack</th>\n",
              "      <th>sp_defense</th>\n",
              "      <th>name</th>\n",
              "    </tr>\n",
              "  </thead>\n",
              "  <tbody>\n",
              "    <tr>\n",
              "      <th>0</th>\n",
              "      <td>1</td>\n",
              "      <td>3000</td>\n",
              "      <td>170</td>\n",
              "      <td>52</td>\n",
              "      <td>20</td>\n",
              "      <td>36</td>\n",
              "      <td>Absol</td>\n",
              "    </tr>\n",
              "    <tr>\n",
              "      <th>15</th>\n",
              "      <td>1</td>\n",
              "      <td>3278</td>\n",
              "      <td>143</td>\n",
              "      <td>40</td>\n",
              "      <td>40</td>\n",
              "      <td>30</td>\n",
              "      <td>Blissey</td>\n",
              "    </tr>\n",
              "    <tr>\n",
              "      <th>30</th>\n",
              "      <td>1</td>\n",
              "      <td>3200</td>\n",
              "      <td>161</td>\n",
              "      <td>70</td>\n",
              "      <td>20</td>\n",
              "      <td>34</td>\n",
              "      <td>Charizard</td>\n",
              "    </tr>\n",
              "    <tr>\n",
              "      <th>45</th>\n",
              "      <td>1</td>\n",
              "      <td>3000</td>\n",
              "      <td>135</td>\n",
              "      <td>50</td>\n",
              "      <td>20</td>\n",
              "      <td>30</td>\n",
              "      <td>Cinderace</td>\n",
              "    </tr>\n",
              "    <tr>\n",
              "      <th>60</th>\n",
              "      <td>1</td>\n",
              "      <td>3292</td>\n",
              "      <td>134</td>\n",
              "      <td>60</td>\n",
              "      <td>50</td>\n",
              "      <td>40</td>\n",
              "      <td>Cramorant</td>\n",
              "    </tr>\n",
              "  </tbody>\n",
              "</table>\n",
              "</div>"
            ],
            "text/plain": [
              "    lvl    hp  attack  defense sp_attack  sp_defense       name\n",
              "0     1  3000     170       52        20          36      Absol\n",
              "15    1  3278     143       40        40          30    Blissey\n",
              "30    1  3200     161       70        20          34  Charizard\n",
              "45    1  3000     135       50        20          30  Cinderace\n",
              "60    1  3292     134       60        50          40  Cramorant"
            ]
          },
          "metadata": {},
          "execution_count": 21
        }
      ]
    },
    {
      "cell_type": "code",
      "metadata": {
        "colab": {
          "base_uri": "https://localhost:8080/",
          "height": 326
        },
        "id": "wt2AXCojKLsc",
        "outputId": "234bc875-36e2-4ec5-bcf0-dcc76d2a00c2"
      },
      "source": [
        "# Graph data\n",
        "ax = grouped.get_group(5).plot.bar(x=\"name\", y='attack', rot=0)\n",
        "ax.tick_params(labelrotation=45, pad=15) # Rotates X-Axis Ticks by 45-degrees\n",
        "ax.tick_params()"
      ],
      "execution_count": 22,
      "outputs": [
        {
          "output_type": "display_data",
          "data": {
            "image/png": "[encoded data removed]",
            "text/plain": [
              "<Figure size 432x288 with 1 Axes>"
            ]
          },
          "metadata": {
            "needs_background": "light"
          }
        }
      ]
    }
  ]
}